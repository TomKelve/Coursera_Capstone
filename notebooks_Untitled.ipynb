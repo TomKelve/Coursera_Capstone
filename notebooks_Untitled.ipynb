{
  "metadata": {
    "language_info": {
      "codemirror_mode": {
        "name": "python",
        "version": 3
      },
      "file_extension": ".py",
      "mimetype": "text/x-python",
      "name": "python",
      "nbconvert_exporter": "python",
      "pygments_lexer": "ipython3",
      "version": "3.8"
    },
    "kernelspec": {
      "name": "python",
      "display_name": "Python (Pyodide)",
      "language": "python"
    }
  },
  "nbformat_minor": 4,
  "nbformat": 4,
  "cells": [
    {
      "cell_type": "code",
      "source": "Curso Capstone de Coursera\nEn este notebook se ponen en práctica las habilidades adquiridas en los cursos previos mediante la elaboración de un proyecto final que trabaja con datos geoespaciales.\n\nimport pandas as pd\nimport numpy as np\nprint(\"¡Hola, Proyecto Final del Curso!\")\n¡Hola, Proyecto Final del Curso!",
      "metadata": {},
      "execution_count": null,
      "outputs": []
    }
  ]
}